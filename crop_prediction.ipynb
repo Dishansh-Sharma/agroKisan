{
 "cells": [
  {
   "cell_type": "code",
   "execution_count": 1,
   "id": "e6f27cc9",
   "metadata": {
    "id": "e6f27cc9",
    "pycharm": {
     "is_executing": true
    }
   },
   "outputs": [
    {
     "name": "stdout",
     "output_type": "stream",
     "text": [
      "Collecting scikit-learn==1.2.2\n",
      "  Using cached scikit_learn-1.2.2-cp310-cp310-win_amd64.whl (8.3 MB)\n",
      "Requirement already satisfied: joblib>=1.1.1 in d:\\anaconda\\lib\\site-packages (from scikit-learn==1.2.2) (1.1.1)\n",
      "Requirement already satisfied: numpy>=1.17.3 in d:\\anaconda\\lib\\site-packages (from scikit-learn==1.2.2) (1.23.5)\n",
      "Requirement already satisfied: threadpoolctl>=2.0.0 in d:\\anaconda\\lib\\site-packages (from scikit-learn==1.2.2) (2.2.0)\n",
      "Requirement already satisfied: scipy>=1.3.2 in d:\\anaconda\\lib\\site-packages (from scikit-learn==1.2.2) (1.10.0)\n",
      "Installing collected packages: scikit-learn\n",
      "  Attempting uninstall: scikit-learn\n",
      "    Found existing installation: scikit-learn 1.2.1\n",
      "    Uninstalling scikit-learn-1.2.1:\n",
      "      Successfully uninstalled scikit-learn-1.2.1\n",
      "Successfully installed scikit-learn-1.2.2\n"
     ]
    }
   ],
   "source": [
    " !pip install scikit-learn==1.2.2\n"
   ]
  },
  {
   "cell_type": "code",
   "execution_count": 2,
   "id": "2aee232a",
   "metadata": {},
   "outputs": [],
   "source": [
    "import numpy as np\n",
    "import pandas as pd\n",
    "from sklearn import metrics\n",
    "import sklearn\n",
    "from sklearn.preprocessing import LabelEncoder\n",
    "from sklearn.preprocessing import OneHotEncoder\n",
    "from sklearn.compose import make_column_transformer\n",
    "from sklearn.pipeline import make_pipeline"
   ]
  },
  {
   "cell_type": "code",
   "execution_count": 5,
   "id": "4e48ee6f",
   "metadata": {
    "id": "4e48ee6f"
   },
   "outputs": [],
   "source": [
    "data=pd.read_csv(r\"final_dataset.csv\")\n"
   ]
  },
  {
   "cell_type": "code",
   "execution_count": 6,
   "id": "294626df",
   "metadata": {
    "id": "294626df"
   },
   "outputs": [],
   "source": [
    "crop_df=pd.DataFrame(data)\n"
   ]
  },
  {
   "cell_type": "code",
   "execution_count": 7,
   "id": "0b4e57a3",
   "metadata": {},
   "outputs": [
    {
     "data": {
      "text/plain": [
       "['Autumn     ',\n",
       " 'Kharif     ',\n",
       " 'Rabi       ',\n",
       " 'Summer     ',\n",
       " 'Whole Year ',\n",
       " 'Winter     ']"
      ]
     },
     "execution_count": 7,
     "metadata": {},
     "output_type": "execute_result"
    }
   ],
   "source": [
    "sorted(crop_df['Season'].unique())"
   ]
  },
  {
   "cell_type": "code",
   "execution_count": 8,
   "id": "e49c0d94",
   "metadata": {
    "id": "e49c0d94",
    "outputId": "6ed5c5fe-b532-4ab1-9211-9908f6dc35ff"
   },
   "outputs": [
    {
     "data": {
      "text/html": [
       "<div>\n",
       "<style scoped>\n",
       "    .dataframe tbody tr th:only-of-type {\n",
       "        vertical-align: middle;\n",
       "    }\n",
       "\n",
       "    .dataframe tbody tr th {\n",
       "        vertical-align: top;\n",
       "    }\n",
       "\n",
       "    .dataframe thead th {\n",
       "        text-align: right;\n",
       "    }\n",
       "</style>\n",
       "<table border=\"1\" class=\"dataframe\">\n",
       "  <thead>\n",
       "    <tr style=\"text-align: right;\">\n",
       "      <th></th>\n",
       "      <th>State_Name</th>\n",
       "      <th>District_Name</th>\n",
       "      <th>Crop_Year</th>\n",
       "      <th>Season</th>\n",
       "      <th>Area</th>\n",
       "      <th>Production</th>\n",
       "      <th>temperature</th>\n",
       "      <th>pH</th>\n",
       "      <th>rainfall</th>\n",
       "      <th>crop</th>\n",
       "    </tr>\n",
       "  </thead>\n",
       "  <tbody>\n",
       "    <tr>\n",
       "      <th>5098</th>\n",
       "      <td>Punjab</td>\n",
       "      <td>PATIALA</td>\n",
       "      <td>1997</td>\n",
       "      <td>Whole Year</td>\n",
       "      <td>5000.0</td>\n",
       "      <td>270000.0</td>\n",
       "      <td>34.021870</td>\n",
       "      <td>6.324081</td>\n",
       "      <td>172.456115</td>\n",
       "      <td>sugarcane</td>\n",
       "    </tr>\n",
       "    <tr>\n",
       "      <th>12733</th>\n",
       "      <td>Punjab</td>\n",
       "      <td>PATIALA</td>\n",
       "      <td>1998</td>\n",
       "      <td>Whole Year</td>\n",
       "      <td>3000.0</td>\n",
       "      <td>170000.0</td>\n",
       "      <td>32.287746</td>\n",
       "      <td>6.223182</td>\n",
       "      <td>165.679405</td>\n",
       "      <td>sugarcane</td>\n",
       "    </tr>\n",
       "    <tr>\n",
       "      <th>20970</th>\n",
       "      <td>Punjab</td>\n",
       "      <td>PATIALA</td>\n",
       "      <td>1999</td>\n",
       "      <td>Whole Year</td>\n",
       "      <td>3000.0</td>\n",
       "      <td>180000.0</td>\n",
       "      <td>30.430047</td>\n",
       "      <td>6.536652</td>\n",
       "      <td>179.421845</td>\n",
       "      <td>sugarcane</td>\n",
       "    </tr>\n",
       "    <tr>\n",
       "      <th>29741</th>\n",
       "      <td>Punjab</td>\n",
       "      <td>PATIALA</td>\n",
       "      <td>2000</td>\n",
       "      <td>Whole Year</td>\n",
       "      <td>3000.0</td>\n",
       "      <td>220000.0</td>\n",
       "      <td>34.500571</td>\n",
       "      <td>6.539971</td>\n",
       "      <td>151.590968</td>\n",
       "      <td>sugarcane</td>\n",
       "    </tr>\n",
       "    <tr>\n",
       "      <th>38433</th>\n",
       "      <td>Punjab</td>\n",
       "      <td>PATIALA</td>\n",
       "      <td>2001</td>\n",
       "      <td>Whole Year</td>\n",
       "      <td>4000.0</td>\n",
       "      <td>280000.0</td>\n",
       "      <td>28.992120</td>\n",
       "      <td>6.478902</td>\n",
       "      <td>131.252533</td>\n",
       "      <td>sugarcane</td>\n",
       "    </tr>\n",
       "    <tr>\n",
       "      <th>47543</th>\n",
       "      <td>Punjab</td>\n",
       "      <td>PATIALA</td>\n",
       "      <td>2002</td>\n",
       "      <td>Whole Year</td>\n",
       "      <td>5000.0</td>\n",
       "      <td>330000.0</td>\n",
       "      <td>29.135202</td>\n",
       "      <td>6.919815</td>\n",
       "      <td>179.199064</td>\n",
       "      <td>sugarcane</td>\n",
       "    </tr>\n",
       "    <tr>\n",
       "      <th>56870</th>\n",
       "      <td>Punjab</td>\n",
       "      <td>PATIALA</td>\n",
       "      <td>2003</td>\n",
       "      <td>Whole Year</td>\n",
       "      <td>4000.0</td>\n",
       "      <td>240000.0</td>\n",
       "      <td>30.431403</td>\n",
       "      <td>6.585379</td>\n",
       "      <td>173.007108</td>\n",
       "      <td>sugarcane</td>\n",
       "    </tr>\n",
       "    <tr>\n",
       "      <th>65966</th>\n",
       "      <td>Punjab</td>\n",
       "      <td>PATIALA</td>\n",
       "      <td>2004</td>\n",
       "      <td>Whole Year</td>\n",
       "      <td>2000.0</td>\n",
       "      <td>120000.0</td>\n",
       "      <td>32.812682</td>\n",
       "      <td>6.817595</td>\n",
       "      <td>143.642583</td>\n",
       "      <td>sugarcane</td>\n",
       "    </tr>\n",
       "    <tr>\n",
       "      <th>75111</th>\n",
       "      <td>Punjab</td>\n",
       "      <td>PATIALA</td>\n",
       "      <td>2005</td>\n",
       "      <td>Whole Year</td>\n",
       "      <td>1000.0</td>\n",
       "      <td>70000.0</td>\n",
       "      <td>30.441714</td>\n",
       "      <td>6.921899</td>\n",
       "      <td>142.741664</td>\n",
       "      <td>sugarcane</td>\n",
       "    </tr>\n",
       "    <tr>\n",
       "      <th>112759</th>\n",
       "      <td>Punjab</td>\n",
       "      <td>PATIALA</td>\n",
       "      <td>2009</td>\n",
       "      <td>Whole Year</td>\n",
       "      <td>100.0</td>\n",
       "      <td>8000.0</td>\n",
       "      <td>33.465946</td>\n",
       "      <td>6.414507</td>\n",
       "      <td>134.677035</td>\n",
       "      <td>sugarcane</td>\n",
       "    </tr>\n",
       "    <tr>\n",
       "      <th>131436</th>\n",
       "      <td>Punjab</td>\n",
       "      <td>PATIALA</td>\n",
       "      <td>2011</td>\n",
       "      <td>Whole Year</td>\n",
       "      <td>3.0</td>\n",
       "      <td>264000.0</td>\n",
       "      <td>27.057951</td>\n",
       "      <td>6.097036</td>\n",
       "      <td>155.511117</td>\n",
       "      <td>sugarcane</td>\n",
       "    </tr>\n",
       "    <tr>\n",
       "      <th>140161</th>\n",
       "      <td>Punjab</td>\n",
       "      <td>PATIALA</td>\n",
       "      <td>2012</td>\n",
       "      <td>Whole Year</td>\n",
       "      <td>2000.0</td>\n",
       "      <td>184000.0</td>\n",
       "      <td>30.684383</td>\n",
       "      <td>6.577082</td>\n",
       "      <td>130.275950</td>\n",
       "      <td>sugarcane</td>\n",
       "    </tr>\n",
       "    <tr>\n",
       "      <th>148758</th>\n",
       "      <td>Punjab</td>\n",
       "      <td>PATIALA</td>\n",
       "      <td>2013</td>\n",
       "      <td>Whole Year</td>\n",
       "      <td>3000.0</td>\n",
       "      <td>281000.0</td>\n",
       "      <td>36.385650</td>\n",
       "      <td>6.108455</td>\n",
       "      <td>168.591312</td>\n",
       "      <td>sugarcane</td>\n",
       "    </tr>\n",
       "    <tr>\n",
       "      <th>156030</th>\n",
       "      <td>Punjab</td>\n",
       "      <td>PATIALA</td>\n",
       "      <td>2014</td>\n",
       "      <td>Whole Year</td>\n",
       "      <td>3000.0</td>\n",
       "      <td>272000.0</td>\n",
       "      <td>36.910292</td>\n",
       "      <td>6.643452</td>\n",
       "      <td>174.221396</td>\n",
       "      <td>sugarcane</td>\n",
       "    </tr>\n",
       "  </tbody>\n",
       "</table>\n",
       "</div>"
      ],
      "text/plain": [
       "       State_Name District_Name  Crop_Year       Season    Area  Production  \\\n",
       "5098       Punjab       PATIALA       1997  Whole Year   5000.0    270000.0   \n",
       "12733      Punjab       PATIALA       1998  Whole Year   3000.0    170000.0   \n",
       "20970      Punjab       PATIALA       1999  Whole Year   3000.0    180000.0   \n",
       "29741      Punjab       PATIALA       2000  Whole Year   3000.0    220000.0   \n",
       "38433      Punjab       PATIALA       2001  Whole Year   4000.0    280000.0   \n",
       "47543      Punjab       PATIALA       2002  Whole Year   5000.0    330000.0   \n",
       "56870      Punjab       PATIALA       2003  Whole Year   4000.0    240000.0   \n",
       "65966      Punjab       PATIALA       2004  Whole Year   2000.0    120000.0   \n",
       "75111      Punjab       PATIALA       2005  Whole Year   1000.0     70000.0   \n",
       "112759     Punjab       PATIALA       2009  Whole Year    100.0      8000.0   \n",
       "131436     Punjab       PATIALA       2011  Whole Year      3.0    264000.0   \n",
       "140161     Punjab       PATIALA       2012  Whole Year   2000.0    184000.0   \n",
       "148758     Punjab       PATIALA       2013  Whole Year   3000.0    281000.0   \n",
       "156030     Punjab       PATIALA       2014  Whole Year   3000.0    272000.0   \n",
       "\n",
       "        temperature        pH    rainfall       crop  \n",
       "5098      34.021870  6.324081  172.456115  sugarcane  \n",
       "12733     32.287746  6.223182  165.679405  sugarcane  \n",
       "20970     30.430047  6.536652  179.421845  sugarcane  \n",
       "29741     34.500571  6.539971  151.590968  sugarcane  \n",
       "38433     28.992120  6.478902  131.252533  sugarcane  \n",
       "47543     29.135202  6.919815  179.199064  sugarcane  \n",
       "56870     30.431403  6.585379  173.007108  sugarcane  \n",
       "65966     32.812682  6.817595  143.642583  sugarcane  \n",
       "75111     30.441714  6.921899  142.741664  sugarcane  \n",
       "112759    33.465946  6.414507  134.677035  sugarcane  \n",
       "131436    27.057951  6.097036  155.511117  sugarcane  \n",
       "140161    30.684383  6.577082  130.275950  sugarcane  \n",
       "148758    36.385650  6.108455  168.591312  sugarcane  \n",
       "156030    36.910292  6.643452  174.221396  sugarcane  "
      ]
     },
     "execution_count": 8,
     "metadata": {},
     "output_type": "execute_result"
    }
   ],
   "source": [
    "crop_df[(crop_df.crop==\"sugarcane\") & (crop_df.State_Name==\"Punjab\") & (crop_df.District_Name==\"PATIALA\")]"
   ]
  },
  {
   "cell_type": "code",
   "execution_count": 9,
   "id": "af5baffe",
   "metadata": {
    "id": "af5baffe",
    "outputId": "c0e0535b-57f6-442d-feb6-7d6e7c6eb1ee"
   },
   "outputs": [
    {
     "data": {
      "text/plain": [
       "array(['arhar/tur', 'bajra', 'cotton(lint)', 'dry chillies', 'gram',\n",
       "       'groundnut', 'jowar', 'maize', 'moong(green gram)', 'onion',\n",
       "       'peas & beans (pulses)', 'potato', 'rapeseed &mustard', 'rice',\n",
       "       'sesamum', 'small millets', 'sugarcane', 'sunflower', 'urad',\n",
       "       'wheat'], dtype=object)"
      ]
     },
     "execution_count": 9,
     "metadata": {},
     "output_type": "execute_result"
    }
   ],
   "source": [
    "crop_df.crop.unique()"
   ]
  },
  {
   "cell_type": "code",
   "execution_count": 10,
   "id": "8bb26e13",
   "metadata": {
    "id": "8bb26e13",
    "outputId": "92b6f267-1b9c-4a7b-8da3-e9ff70c0410a"
   },
   "outputs": [
    {
     "data": {
      "text/html": [
       "<div>\n",
       "<style scoped>\n",
       "    .dataframe tbody tr th:only-of-type {\n",
       "        vertical-align: middle;\n",
       "    }\n",
       "\n",
       "    .dataframe tbody tr th {\n",
       "        vertical-align: top;\n",
       "    }\n",
       "\n",
       "    .dataframe thead th {\n",
       "        text-align: right;\n",
       "    }\n",
       "</style>\n",
       "<table border=\"1\" class=\"dataframe\">\n",
       "  <thead>\n",
       "    <tr style=\"text-align: right;\">\n",
       "      <th></th>\n",
       "      <th>State_Name</th>\n",
       "      <th>District_Name</th>\n",
       "      <th>Crop_Year</th>\n",
       "      <th>Season</th>\n",
       "      <th>Area</th>\n",
       "      <th>Production</th>\n",
       "      <th>temperature</th>\n",
       "      <th>pH</th>\n",
       "      <th>rainfall</th>\n",
       "      <th>crop</th>\n",
       "    </tr>\n",
       "  </thead>\n",
       "  <tbody>\n",
       "    <tr>\n",
       "      <th>5762</th>\n",
       "      <td>Andhra Pradesh</td>\n",
       "      <td>ANANTAPUR</td>\n",
       "      <td>1997</td>\n",
       "      <td>Rabi</td>\n",
       "      <td>300.0</td>\n",
       "      <td>200.0</td>\n",
       "      <td>15.674277</td>\n",
       "      <td>6.180242</td>\n",
       "      <td>49.945304</td>\n",
       "      <td>wheat</td>\n",
       "    </tr>\n",
       "    <tr>\n",
       "      <th>5763</th>\n",
       "      <td>Andhra Pradesh</td>\n",
       "      <td>KURNOOL</td>\n",
       "      <td>1997</td>\n",
       "      <td>Rabi</td>\n",
       "      <td>600.0</td>\n",
       "      <td>300.0</td>\n",
       "      <td>15.047735</td>\n",
       "      <td>6.743541</td>\n",
       "      <td>26.149186</td>\n",
       "      <td>wheat</td>\n",
       "    </tr>\n",
       "    <tr>\n",
       "      <th>5764</th>\n",
       "      <td>Arunachal Pradesh</td>\n",
       "      <td>CHANGLANG</td>\n",
       "      <td>1997</td>\n",
       "      <td>Rabi</td>\n",
       "      <td>240.0</td>\n",
       "      <td>260.0</td>\n",
       "      <td>17.134979</td>\n",
       "      <td>6.306235</td>\n",
       "      <td>54.564645</td>\n",
       "      <td>wheat</td>\n",
       "    </tr>\n",
       "    <tr>\n",
       "      <th>5765</th>\n",
       "      <td>Arunachal Pradesh</td>\n",
       "      <td>DIBANG VALLEY</td>\n",
       "      <td>1997</td>\n",
       "      <td>Rabi</td>\n",
       "      <td>196.0</td>\n",
       "      <td>294.0</td>\n",
       "      <td>20.471202</td>\n",
       "      <td>6.014430</td>\n",
       "      <td>58.329456</td>\n",
       "      <td>wheat</td>\n",
       "    </tr>\n",
       "    <tr>\n",
       "      <th>5766</th>\n",
       "      <td>Arunachal Pradesh</td>\n",
       "      <td>EAST KAMENG</td>\n",
       "      <td>1997</td>\n",
       "      <td>Rabi</td>\n",
       "      <td>19.0</td>\n",
       "      <td>81.0</td>\n",
       "      <td>17.689080</td>\n",
       "      <td>6.036917</td>\n",
       "      <td>33.318791</td>\n",
       "      <td>wheat</td>\n",
       "    </tr>\n",
       "    <tr>\n",
       "      <th>...</th>\n",
       "      <td>...</td>\n",
       "      <td>...</td>\n",
       "      <td>...</td>\n",
       "      <td>...</td>\n",
       "      <td>...</td>\n",
       "      <td>...</td>\n",
       "      <td>...</td>\n",
       "      <td>...</td>\n",
       "      <td>...</td>\n",
       "      <td>...</td>\n",
       "    </tr>\n",
       "    <tr>\n",
       "      <th>157634</th>\n",
       "      <td>Odisha</td>\n",
       "      <td>SUNDARGARH</td>\n",
       "      <td>2015</td>\n",
       "      <td>Summer</td>\n",
       "      <td>140.0</td>\n",
       "      <td>191.2</td>\n",
       "      <td>24.488134</td>\n",
       "      <td>6.631725</td>\n",
       "      <td>30.351411</td>\n",
       "      <td>wheat</td>\n",
       "    </tr>\n",
       "    <tr>\n",
       "      <th>157635</th>\n",
       "      <td>Sikkim</td>\n",
       "      <td>EAST DISTRICT</td>\n",
       "      <td>2015</td>\n",
       "      <td>Rabi</td>\n",
       "      <td>143.0</td>\n",
       "      <td>162.0</td>\n",
       "      <td>21.926682</td>\n",
       "      <td>6.620051</td>\n",
       "      <td>25.189095</td>\n",
       "      <td>wheat</td>\n",
       "    </tr>\n",
       "    <tr>\n",
       "      <th>157636</th>\n",
       "      <td>Sikkim</td>\n",
       "      <td>NORTH DISTRICT</td>\n",
       "      <td>2015</td>\n",
       "      <td>Rabi</td>\n",
       "      <td>50.0</td>\n",
       "      <td>45.0</td>\n",
       "      <td>20.456522</td>\n",
       "      <td>6.365344</td>\n",
       "      <td>52.820362</td>\n",
       "      <td>wheat</td>\n",
       "    </tr>\n",
       "    <tr>\n",
       "      <th>157637</th>\n",
       "      <td>Sikkim</td>\n",
       "      <td>SOUTH DISTRICT</td>\n",
       "      <td>2015</td>\n",
       "      <td>Rabi</td>\n",
       "      <td>110.0</td>\n",
       "      <td>118.0</td>\n",
       "      <td>24.069394</td>\n",
       "      <td>6.827172</td>\n",
       "      <td>52.964856</td>\n",
       "      <td>wheat</td>\n",
       "    </tr>\n",
       "    <tr>\n",
       "      <th>157638</th>\n",
       "      <td>Sikkim</td>\n",
       "      <td>WEST DISTRICT</td>\n",
       "      <td>2015</td>\n",
       "      <td>Rabi</td>\n",
       "      <td>20.0</td>\n",
       "      <td>21.0</td>\n",
       "      <td>14.244139</td>\n",
       "      <td>6.686225</td>\n",
       "      <td>44.656937</td>\n",
       "      <td>wheat</td>\n",
       "    </tr>\n",
       "  </tbody>\n",
       "</table>\n",
       "<p>7899 rows × 10 columns</p>\n",
       "</div>"
      ],
      "text/plain": [
       "               State_Name   District_Name  Crop_Year       Season   Area  \\\n",
       "5762       Andhra Pradesh       ANANTAPUR       1997  Rabi         300.0   \n",
       "5763       Andhra Pradesh         KURNOOL       1997  Rabi         600.0   \n",
       "5764    Arunachal Pradesh       CHANGLANG       1997  Rabi         240.0   \n",
       "5765    Arunachal Pradesh   DIBANG VALLEY       1997  Rabi         196.0   \n",
       "5766    Arunachal Pradesh     EAST KAMENG       1997  Rabi          19.0   \n",
       "...                   ...             ...        ...          ...    ...   \n",
       "157634             Odisha      SUNDARGARH       2015  Summer       140.0   \n",
       "157635             Sikkim   EAST DISTRICT       2015  Rabi         143.0   \n",
       "157636             Sikkim  NORTH DISTRICT       2015  Rabi          50.0   \n",
       "157637             Sikkim  SOUTH DISTRICT       2015  Rabi         110.0   \n",
       "157638             Sikkim   WEST DISTRICT       2015  Rabi          20.0   \n",
       "\n",
       "        Production  temperature        pH   rainfall   crop  \n",
       "5762         200.0    15.674277  6.180242  49.945304  wheat  \n",
       "5763         300.0    15.047735  6.743541  26.149186  wheat  \n",
       "5764         260.0    17.134979  6.306235  54.564645  wheat  \n",
       "5765         294.0    20.471202  6.014430  58.329456  wheat  \n",
       "5766          81.0    17.689080  6.036917  33.318791  wheat  \n",
       "...            ...          ...       ...        ...    ...  \n",
       "157634       191.2    24.488134  6.631725  30.351411  wheat  \n",
       "157635       162.0    21.926682  6.620051  25.189095  wheat  \n",
       "157636        45.0    20.456522  6.365344  52.820362  wheat  \n",
       "157637       118.0    24.069394  6.827172  52.964856  wheat  \n",
       "157638        21.0    14.244139  6.686225  44.656937  wheat  \n",
       "\n",
       "[7899 rows x 10 columns]"
      ]
     },
     "execution_count": 10,
     "metadata": {},
     "output_type": "execute_result"
    }
   ],
   "source": [
    "crop_df[(crop_df.crop==\"wheat\") ]"
   ]
  },
  {
   "cell_type": "code",
   "execution_count": 11,
   "id": "c20be320",
   "metadata": {
    "id": "c20be320",
    "outputId": "3ab78422-f5d0-443c-9e96-493cd5e1eb7b"
   },
   "outputs": [
    {
     "name": "stdout",
     "output_type": "stream",
     "text": [
      "<class 'pandas.core.frame.DataFrame'>\n",
      "RangeIndex: 157639 entries, 0 to 157638\n",
      "Data columns (total 10 columns):\n",
      " #   Column         Non-Null Count   Dtype  \n",
      "---  ------         --------------   -----  \n",
      " 0   State_Name     157639 non-null  object \n",
      " 1   District_Name  157639 non-null  object \n",
      " 2   Crop_Year      157639 non-null  int64  \n",
      " 3   Season         157639 non-null  object \n",
      " 4   Area           157639 non-null  float64\n",
      " 5   Production     155810 non-null  float64\n",
      " 6   temperature    157639 non-null  float64\n",
      " 7   pH             157639 non-null  float64\n",
      " 8   rainfall       157639 non-null  float64\n",
      " 9   crop           157639 non-null  object \n",
      "dtypes: float64(5), int64(1), object(4)\n",
      "memory usage: 12.0+ MB\n"
     ]
    }
   ],
   "source": [
    "crop_df.info()"
   ]
  },
  {
   "cell_type": "code",
   "execution_count": 12,
   "id": "890a6438",
   "metadata": {
    "id": "890a6438",
    "outputId": "b65e2069-744c-4580-8e89-f755815a359b"
   },
   "outputs": [
    {
     "data": {
      "text/plain": [
       "['Andhra Pradesh',\n",
       " 'Assam',\n",
       " 'Bihar',\n",
       " 'Gujarat',\n",
       " 'Karnataka',\n",
       " 'Madhya Pradesh',\n",
       " 'Maharashtra',\n",
       " 'Meghalaya',\n",
       " 'Mizoram',\n",
       " 'Odisha',\n",
       " 'Punjab',\n",
       " 'Rajasthan',\n",
       " 'Tamil Nadu',\n",
       " 'Telangana ',\n",
       " 'Uttar Pradesh',\n",
       " 'West Bengal',\n",
       " 'Haryana',\n",
       " 'Nagaland',\n",
       " 'Manipur',\n",
       " 'Arunachal Pradesh',\n",
       " 'Goa',\n",
       " 'Jammu and Kashmir ',\n",
       " 'Chandigarh',\n",
       " 'Dadra and Nagar Haveli',\n",
       " 'Himachal Pradesh',\n",
       " 'Tripura',\n",
       " 'Puducherry',\n",
       " 'Kerala',\n",
       " 'Sikkim',\n",
       " 'Chhattisgarh',\n",
       " 'Uttarakhand',\n",
       " 'Andaman and Nicobar Islands',\n",
       " 'Jharkhand']"
      ]
     },
     "execution_count": 12,
     "metadata": {},
     "output_type": "execute_result"
    }
   ],
   "source": [
    "state_names=list(crop_df.State_Name.unique())\n",
    "state_names"
   ]
  },
  {
   "cell_type": "code",
   "execution_count": 13,
   "id": "bc8f0abe",
   "metadata": {
    "id": "bc8f0abe",
    "outputId": "4ad16224-c0ea-42b7-cc6f-ec4b979012b8"
   },
   "outputs": [
    {
     "name": "stderr",
     "output_type": "stream",
     "text": [
      "C:\\Users\\gauta\\AppData\\Local\\Temp\\ipykernel_15424\\46009533.py:2: SettingWithCopyWarning: \n",
      "A value is trying to be set on a copy of a slice from a DataFrame\n",
      "\n",
      "See the caveats in the documentation: https://pandas.pydata.org/pandas-docs/stable/user_guide/indexing.html#returning-a-view-versus-a-copy\n",
      "  crop_df[\"Season\"][i]=crop_df[\"Season\"][i].strip()\n"
     ]
    }
   ],
   "source": [
    "for i in range(len(crop_df[\"Season\"])):\n",
    "    crop_df[\"Season\"][i]=crop_df[\"Season\"][i].strip()"
   ]
  },
  {
   "cell_type": "code",
   "execution_count": 14,
   "id": "112f728a",
   "metadata": {
    "id": "112f728a",
    "outputId": "5cf7fdff-61b2-41ed-8c19-ba3335149830"
   },
   "outputs": [
    {
     "data": {
      "text/plain": [
       "'Kharif'"
      ]
     },
     "execution_count": 14,
     "metadata": {},
     "output_type": "execute_result"
    }
   ],
   "source": [
    "crop_df[\"Season\"][0]"
   ]
  },
  {
   "cell_type": "code",
   "execution_count": 15,
   "id": "b5d0a049",
   "metadata": {
    "id": "b5d0a049",
    "outputId": "f73ad1a8-fba1-46d5-9905-cba7337347b9"
   },
   "outputs": [
    {
     "data": {
      "text/plain": [
       "array(['Kharif', 'Rabi', 'Autumn', 'Summer', 'Winter', 'Whole Year'],\n",
       "      dtype=object)"
      ]
     },
     "execution_count": 15,
     "metadata": {},
     "output_type": "execute_result"
    }
   ],
   "source": [
    "crop_df.Season.unique()"
   ]
  },
  {
   "cell_type": "code",
   "execution_count": 16,
   "id": "0b93d9e7",
   "metadata": {
    "id": "0b93d9e7",
    "outputId": "ce955f42-b4f6-4f05-9f84-00b0ccf7b46d"
   },
   "outputs": [],
   "source": [
    "crop_df=crop_df.drop([\"Crop_Year\",\"Production\"],axis=1)\n"
   ]
  },
  {
   "cell_type": "code",
   "execution_count": 17,
   "id": "13e594aa",
   "metadata": {
    "id": "13e594aa",
    "outputId": "65c425f8-f510-44d5-d71f-cb74c7f7fbb7"
   },
   "outputs": [
    {
     "data": {
      "text/plain": [
       "State_Name       0\n",
       "District_Name    0\n",
       "Season           0\n",
       "Area             0\n",
       "temperature      0\n",
       "pH               0\n",
       "rainfall         0\n",
       "crop             0\n",
       "dtype: int64"
      ]
     },
     "execution_count": 17,
     "metadata": {},
     "output_type": "execute_result"
    }
   ],
   "source": [
    "crop_df.isna().sum()"
   ]
  },
  {
   "cell_type": "code",
   "execution_count": 18,
   "id": "7ca96feb",
   "metadata": {
    "id": "7ca96feb",
    "outputId": "8592041d-ba77-4fc3-95b0-10501ec5af58"
   },
   "outputs": [
    {
     "data": {
      "text/plain": [
       "array(['Andhra Pradesh', 'Assam', 'Bihar', 'Gujarat', 'Karnataka',\n",
       "       'Madhya Pradesh', 'Maharashtra', 'Meghalaya', 'Mizoram', 'Odisha',\n",
       "       'Punjab', 'Rajasthan', 'Tamil Nadu', 'Telangana ', 'Uttar Pradesh',\n",
       "       'West Bengal', 'Haryana', 'Nagaland', 'Manipur',\n",
       "       'Arunachal Pradesh', 'Goa', 'Jammu and Kashmir ', 'Chandigarh',\n",
       "       'Dadra and Nagar Haveli', 'Himachal Pradesh', 'Tripura',\n",
       "       'Puducherry', 'Kerala', 'Sikkim', 'Chhattisgarh', 'Uttarakhand',\n",
       "       'Andaman and Nicobar Islands', 'Jharkhand'], dtype=object)"
      ]
     },
     "execution_count": 18,
     "metadata": {},
     "output_type": "execute_result"
    }
   ],
   "source": [
    "crop_df[\"State_Name\"].unique()"
   ]
  },
  {
   "cell_type": "code",
   "execution_count": 19,
   "id": "12e1b146",
   "metadata": {
    "id": "12e1b146",
    "outputId": "dfc1383c-19e3-4959-ae2a-c0979a46ebab"
   },
   "outputs": [
    {
     "data": {
      "text/html": [
       "<div>\n",
       "<style scoped>\n",
       "    .dataframe tbody tr th:only-of-type {\n",
       "        vertical-align: middle;\n",
       "    }\n",
       "\n",
       "    .dataframe tbody tr th {\n",
       "        vertical-align: top;\n",
       "    }\n",
       "\n",
       "    .dataframe thead th {\n",
       "        text-align: right;\n",
       "    }\n",
       "</style>\n",
       "<table border=\"1\" class=\"dataframe\">\n",
       "  <thead>\n",
       "    <tr style=\"text-align: right;\">\n",
       "      <th></th>\n",
       "      <th>State_Name</th>\n",
       "      <th>District_Name</th>\n",
       "      <th>Season</th>\n",
       "      <th>Area</th>\n",
       "      <th>temperature</th>\n",
       "      <th>pH</th>\n",
       "      <th>rainfall</th>\n",
       "      <th>crop</th>\n",
       "    </tr>\n",
       "  </thead>\n",
       "  <tbody>\n",
       "    <tr>\n",
       "      <th>0</th>\n",
       "      <td>Andhra Pradesh</td>\n",
       "      <td>ANANTAPUR</td>\n",
       "      <td>Kharif</td>\n",
       "      <td>21400.0</td>\n",
       "      <td>30.015194</td>\n",
       "      <td>6.540823</td>\n",
       "      <td>60.740755</td>\n",
       "      <td>arhar/tur</td>\n",
       "    </tr>\n",
       "    <tr>\n",
       "      <th>1</th>\n",
       "      <td>Andhra Pradesh</td>\n",
       "      <td>CHITTOOR</td>\n",
       "      <td>Kharif</td>\n",
       "      <td>6100.0</td>\n",
       "      <td>34.173228</td>\n",
       "      <td>6.539902</td>\n",
       "      <td>64.741612</td>\n",
       "      <td>arhar/tur</td>\n",
       "    </tr>\n",
       "    <tr>\n",
       "      <th>2</th>\n",
       "      <td>Andhra Pradesh</td>\n",
       "      <td>EAST GODAVARI</td>\n",
       "      <td>Kharif</td>\n",
       "      <td>1600.0</td>\n",
       "      <td>32.066133</td>\n",
       "      <td>6.330119</td>\n",
       "      <td>62.227814</td>\n",
       "      <td>arhar/tur</td>\n",
       "    </tr>\n",
       "    <tr>\n",
       "      <th>3</th>\n",
       "      <td>Andhra Pradesh</td>\n",
       "      <td>GUNTUR</td>\n",
       "      <td>Kharif</td>\n",
       "      <td>28400.0</td>\n",
       "      <td>32.472997</td>\n",
       "      <td>6.461273</td>\n",
       "      <td>60.810195</td>\n",
       "      <td>arhar/tur</td>\n",
       "    </tr>\n",
       "    <tr>\n",
       "      <th>4</th>\n",
       "      <td>Andhra Pradesh</td>\n",
       "      <td>GUNTUR</td>\n",
       "      <td>Rabi</td>\n",
       "      <td>1800.0</td>\n",
       "      <td>32.270221</td>\n",
       "      <td>6.481504</td>\n",
       "      <td>63.154169</td>\n",
       "      <td>arhar/tur</td>\n",
       "    </tr>\n",
       "    <tr>\n",
       "      <th>...</th>\n",
       "      <td>...</td>\n",
       "      <td>...</td>\n",
       "      <td>...</td>\n",
       "      <td>...</td>\n",
       "      <td>...</td>\n",
       "      <td>...</td>\n",
       "      <td>...</td>\n",
       "      <td>...</td>\n",
       "    </tr>\n",
       "    <tr>\n",
       "      <th>157634</th>\n",
       "      <td>Odisha</td>\n",
       "      <td>SUNDARGARH</td>\n",
       "      <td>Summer</td>\n",
       "      <td>140.0</td>\n",
       "      <td>24.488134</td>\n",
       "      <td>6.631725</td>\n",
       "      <td>30.351411</td>\n",
       "      <td>wheat</td>\n",
       "    </tr>\n",
       "    <tr>\n",
       "      <th>157635</th>\n",
       "      <td>Sikkim</td>\n",
       "      <td>EAST DISTRICT</td>\n",
       "      <td>Rabi</td>\n",
       "      <td>143.0</td>\n",
       "      <td>21.926682</td>\n",
       "      <td>6.620051</td>\n",
       "      <td>25.189095</td>\n",
       "      <td>wheat</td>\n",
       "    </tr>\n",
       "    <tr>\n",
       "      <th>157636</th>\n",
       "      <td>Sikkim</td>\n",
       "      <td>NORTH DISTRICT</td>\n",
       "      <td>Rabi</td>\n",
       "      <td>50.0</td>\n",
       "      <td>20.456522</td>\n",
       "      <td>6.365344</td>\n",
       "      <td>52.820362</td>\n",
       "      <td>wheat</td>\n",
       "    </tr>\n",
       "    <tr>\n",
       "      <th>157637</th>\n",
       "      <td>Sikkim</td>\n",
       "      <td>SOUTH DISTRICT</td>\n",
       "      <td>Rabi</td>\n",
       "      <td>110.0</td>\n",
       "      <td>24.069394</td>\n",
       "      <td>6.827172</td>\n",
       "      <td>52.964856</td>\n",
       "      <td>wheat</td>\n",
       "    </tr>\n",
       "    <tr>\n",
       "      <th>157638</th>\n",
       "      <td>Sikkim</td>\n",
       "      <td>WEST DISTRICT</td>\n",
       "      <td>Rabi</td>\n",
       "      <td>20.0</td>\n",
       "      <td>14.244139</td>\n",
       "      <td>6.686225</td>\n",
       "      <td>44.656937</td>\n",
       "      <td>wheat</td>\n",
       "    </tr>\n",
       "  </tbody>\n",
       "</table>\n",
       "<p>157639 rows × 8 columns</p>\n",
       "</div>"
      ],
      "text/plain": [
       "            State_Name   District_Name  Season     Area  temperature  \\\n",
       "0       Andhra Pradesh       ANANTAPUR  Kharif  21400.0    30.015194   \n",
       "1       Andhra Pradesh        CHITTOOR  Kharif   6100.0    34.173228   \n",
       "2       Andhra Pradesh   EAST GODAVARI  Kharif   1600.0    32.066133   \n",
       "3       Andhra Pradesh          GUNTUR  Kharif  28400.0    32.472997   \n",
       "4       Andhra Pradesh          GUNTUR    Rabi   1800.0    32.270221   \n",
       "...                ...             ...     ...      ...          ...   \n",
       "157634          Odisha      SUNDARGARH  Summer    140.0    24.488134   \n",
       "157635          Sikkim   EAST DISTRICT    Rabi    143.0    21.926682   \n",
       "157636          Sikkim  NORTH DISTRICT    Rabi     50.0    20.456522   \n",
       "157637          Sikkim  SOUTH DISTRICT    Rabi    110.0    24.069394   \n",
       "157638          Sikkim   WEST DISTRICT    Rabi     20.0    14.244139   \n",
       "\n",
       "              pH   rainfall       crop  \n",
       "0       6.540823  60.740755  arhar/tur  \n",
       "1       6.539902  64.741612  arhar/tur  \n",
       "2       6.330119  62.227814  arhar/tur  \n",
       "3       6.461273  60.810195  arhar/tur  \n",
       "4       6.481504  63.154169  arhar/tur  \n",
       "...          ...        ...        ...  \n",
       "157634  6.631725  30.351411      wheat  \n",
       "157635  6.620051  25.189095      wheat  \n",
       "157636  6.365344  52.820362      wheat  \n",
       "157637  6.827172  52.964856      wheat  \n",
       "157638  6.686225  44.656937      wheat  \n",
       "\n",
       "[157639 rows x 8 columns]"
      ]
     },
     "execution_count": 19,
     "metadata": {},
     "output_type": "execute_result"
    }
   ],
   "source": [
    "crop_df"
   ]
  },
  {
   "cell_type": "code",
   "execution_count": 20,
   "id": "617f858b",
   "metadata": {
    "id": "617f858b"
   },
   "outputs": [],
   "source": [
    "x=crop_df.iloc[:,[0,1,2,3,4,5,6]]\n",
    "y=crop_df.iloc[:,[7]]\n",
    "from sklearn.model_selection import train_test_split  \n",
    "x_train, x_test, y_train, y_test= train_test_split(x, y, test_size= 0.20, random_state=11)"
   ]
  },
  {
   "cell_type": "code",
   "execution_count": 21,
   "id": "671f65da",
   "metadata": {
    "id": "671f65da",
    "outputId": "4c564fe6-9ac3-42e4-ec51-cf3b230ecba5"
   },
   "outputs": [
    {
     "data": {
      "text/html": [
       "<div>\n",
       "<style scoped>\n",
       "    .dataframe tbody tr th:only-of-type {\n",
       "        vertical-align: middle;\n",
       "    }\n",
       "\n",
       "    .dataframe tbody tr th {\n",
       "        vertical-align: top;\n",
       "    }\n",
       "\n",
       "    .dataframe thead th {\n",
       "        text-align: right;\n",
       "    }\n",
       "</style>\n",
       "<table border=\"1\" class=\"dataframe\">\n",
       "  <thead>\n",
       "    <tr style=\"text-align: right;\">\n",
       "      <th></th>\n",
       "      <th>crop</th>\n",
       "    </tr>\n",
       "  </thead>\n",
       "  <tbody>\n",
       "    <tr>\n",
       "      <th>0</th>\n",
       "      <td>arhar/tur</td>\n",
       "    </tr>\n",
       "    <tr>\n",
       "      <th>1</th>\n",
       "      <td>arhar/tur</td>\n",
       "    </tr>\n",
       "    <tr>\n",
       "      <th>2</th>\n",
       "      <td>arhar/tur</td>\n",
       "    </tr>\n",
       "    <tr>\n",
       "      <th>3</th>\n",
       "      <td>arhar/tur</td>\n",
       "    </tr>\n",
       "    <tr>\n",
       "      <th>4</th>\n",
       "      <td>arhar/tur</td>\n",
       "    </tr>\n",
       "    <tr>\n",
       "      <th>...</th>\n",
       "      <td>...</td>\n",
       "    </tr>\n",
       "    <tr>\n",
       "      <th>157634</th>\n",
       "      <td>wheat</td>\n",
       "    </tr>\n",
       "    <tr>\n",
       "      <th>157635</th>\n",
       "      <td>wheat</td>\n",
       "    </tr>\n",
       "    <tr>\n",
       "      <th>157636</th>\n",
       "      <td>wheat</td>\n",
       "    </tr>\n",
       "    <tr>\n",
       "      <th>157637</th>\n",
       "      <td>wheat</td>\n",
       "    </tr>\n",
       "    <tr>\n",
       "      <th>157638</th>\n",
       "      <td>wheat</td>\n",
       "    </tr>\n",
       "  </tbody>\n",
       "</table>\n",
       "<p>157639 rows × 1 columns</p>\n",
       "</div>"
      ],
      "text/plain": [
       "             crop\n",
       "0       arhar/tur\n",
       "1       arhar/tur\n",
       "2       arhar/tur\n",
       "3       arhar/tur\n",
       "4       arhar/tur\n",
       "...           ...\n",
       "157634      wheat\n",
       "157635      wheat\n",
       "157636      wheat\n",
       "157637      wheat\n",
       "157638      wheat\n",
       "\n",
       "[157639 rows x 1 columns]"
      ]
     },
     "execution_count": 21,
     "metadata": {},
     "output_type": "execute_result"
    }
   ],
   "source": [
    "y"
   ]
  },
  {
   "cell_type": "code",
   "execution_count": 22,
   "id": "70147f40",
   "metadata": {
    "id": "70147f40",
    "outputId": "2c2688d1-a353-4a1a-d195-fdd9acd426d7"
   },
   "outputs": [
    {
     "data": {
      "text/html": [
       "<style>#sk-container-id-1 {color: black;background-color: white;}#sk-container-id-1 pre{padding: 0;}#sk-container-id-1 div.sk-toggleable {background-color: white;}#sk-container-id-1 label.sk-toggleable__label {cursor: pointer;display: block;width: 100%;margin-bottom: 0;padding: 0.3em;box-sizing: border-box;text-align: center;}#sk-container-id-1 label.sk-toggleable__label-arrow:before {content: \"▸\";float: left;margin-right: 0.25em;color: #696969;}#sk-container-id-1 label.sk-toggleable__label-arrow:hover:before {color: black;}#sk-container-id-1 div.sk-estimator:hover label.sk-toggleable__label-arrow:before {color: black;}#sk-container-id-1 div.sk-toggleable__content {max-height: 0;max-width: 0;overflow: hidden;text-align: left;background-color: #f0f8ff;}#sk-container-id-1 div.sk-toggleable__content pre {margin: 0.2em;color: black;border-radius: 0.25em;background-color: #f0f8ff;}#sk-container-id-1 input.sk-toggleable__control:checked~div.sk-toggleable__content {max-height: 200px;max-width: 100%;overflow: auto;}#sk-container-id-1 input.sk-toggleable__control:checked~label.sk-toggleable__label-arrow:before {content: \"▾\";}#sk-container-id-1 div.sk-estimator input.sk-toggleable__control:checked~label.sk-toggleable__label {background-color: #d4ebff;}#sk-container-id-1 div.sk-label input.sk-toggleable__control:checked~label.sk-toggleable__label {background-color: #d4ebff;}#sk-container-id-1 input.sk-hidden--visually {border: 0;clip: rect(1px 1px 1px 1px);clip: rect(1px, 1px, 1px, 1px);height: 1px;margin: -1px;overflow: hidden;padding: 0;position: absolute;width: 1px;}#sk-container-id-1 div.sk-estimator {font-family: monospace;background-color: #f0f8ff;border: 1px dotted black;border-radius: 0.25em;box-sizing: border-box;margin-bottom: 0.5em;}#sk-container-id-1 div.sk-estimator:hover {background-color: #d4ebff;}#sk-container-id-1 div.sk-parallel-item::after {content: \"\";width: 100%;border-bottom: 1px solid gray;flex-grow: 1;}#sk-container-id-1 div.sk-label:hover label.sk-toggleable__label {background-color: #d4ebff;}#sk-container-id-1 div.sk-serial::before {content: \"\";position: absolute;border-left: 1px solid gray;box-sizing: border-box;top: 0;bottom: 0;left: 50%;z-index: 0;}#sk-container-id-1 div.sk-serial {display: flex;flex-direction: column;align-items: center;background-color: white;padding-right: 0.2em;padding-left: 0.2em;position: relative;}#sk-container-id-1 div.sk-item {position: relative;z-index: 1;}#sk-container-id-1 div.sk-parallel {display: flex;align-items: stretch;justify-content: center;background-color: white;position: relative;}#sk-container-id-1 div.sk-item::before, #sk-container-id-1 div.sk-parallel-item::before {content: \"\";position: absolute;border-left: 1px solid gray;box-sizing: border-box;top: 0;bottom: 0;left: 50%;z-index: -1;}#sk-container-id-1 div.sk-parallel-item {display: flex;flex-direction: column;z-index: 1;position: relative;background-color: white;}#sk-container-id-1 div.sk-parallel-item:first-child::after {align-self: flex-end;width: 50%;}#sk-container-id-1 div.sk-parallel-item:last-child::after {align-self: flex-start;width: 50%;}#sk-container-id-1 div.sk-parallel-item:only-child::after {width: 0;}#sk-container-id-1 div.sk-dashed-wrapped {border: 1px dashed gray;margin: 0 0.4em 0.5em 0.4em;box-sizing: border-box;padding-bottom: 0.4em;background-color: white;}#sk-container-id-1 div.sk-label label {font-family: monospace;font-weight: bold;display: inline-block;line-height: 1.2em;}#sk-container-id-1 div.sk-label-container {text-align: center;}#sk-container-id-1 div.sk-container {/* jupyter's `normalize.less` sets `[hidden] { display: none; }` but bootstrap.min.css set `[hidden] { display: none !important; }` so we also need the `!important` here to be able to override the default hidden behavior on the sphinx rendered scikit-learn.org. See: https://github.com/scikit-learn/scikit-learn/issues/21755 */display: inline-block !important;position: relative;}#sk-container-id-1 div.sk-text-repr-fallback {display: none;}</style><div id=\"sk-container-id-1\" class=\"sk-top-container\"><div class=\"sk-text-repr-fallback\"><pre>OneHotEncoder(handle_unknown=&#x27;ignore&#x27;)</pre><b>In a Jupyter environment, please rerun this cell to show the HTML representation or trust the notebook. <br />On GitHub, the HTML representation is unable to render, please try loading this page with nbviewer.org.</b></div><div class=\"sk-container\" hidden><div class=\"sk-item\"><div class=\"sk-estimator sk-toggleable\"><input class=\"sk-toggleable__control sk-hidden--visually\" id=\"sk-estimator-id-1\" type=\"checkbox\" checked><label for=\"sk-estimator-id-1\" class=\"sk-toggleable__label sk-toggleable__label-arrow\">OneHotEncoder</label><div class=\"sk-toggleable__content\"><pre>OneHotEncoder(handle_unknown=&#x27;ignore&#x27;)</pre></div></div></div></div></div>"
      ],
      "text/plain": [
       "OneHotEncoder(handle_unknown='ignore')"
      ]
     },
     "execution_count": 22,
     "metadata": {},
     "output_type": "execute_result"
    }
   ],
   "source": [
    "ohe=OneHotEncoder(handle_unknown = 'ignore')\n",
    "ohe.fit(x[['State_Name','District_Name','Season']])"
   ]
  },
  {
   "cell_type": "code",
   "execution_count": 23,
   "id": "e1922d3d",
   "metadata": {
    "id": "e1922d3d",
    "outputId": "35c37921-c796-4cbd-a4fd-4ae9b286f42a"
   },
   "outputs": [
    {
     "data": {
      "text/plain": [
       "[array(['Andaman and Nicobar Islands', 'Andhra Pradesh',\n",
       "        'Arunachal Pradesh', 'Assam', 'Bihar', 'Chandigarh',\n",
       "        'Chhattisgarh', 'Dadra and Nagar Haveli', 'Goa', 'Gujarat',\n",
       "        'Haryana', 'Himachal Pradesh', 'Jammu and Kashmir ', 'Jharkhand',\n",
       "        'Karnataka', 'Kerala', 'Madhya Pradesh', 'Maharashtra', 'Manipur',\n",
       "        'Meghalaya', 'Mizoram', 'Nagaland', 'Odisha', 'Puducherry',\n",
       "        'Punjab', 'Rajasthan', 'Sikkim', 'Tamil Nadu', 'Telangana ',\n",
       "        'Tripura', 'Uttar Pradesh', 'Uttarakhand', 'West Bengal'],\n",
       "       dtype=object),\n",
       " array(['24 PARAGANAS NORTH', '24 PARAGANAS SOUTH', 'ADILABAD',\n",
       "        'AGAR MALWA', 'AGRA', 'AHMADABAD', 'AHMEDNAGAR', 'AIZAWL', 'AJMER',\n",
       "        'AKOLA', 'ALAPPUZHA', 'ALIGARH', 'ALIRAJPUR', 'ALLAHABAD',\n",
       "        'ALMORA', 'ALWAR', 'AMBALA', 'AMBEDKAR NAGAR', 'AMETHI',\n",
       "        'AMRAVATI', 'AMRELI', 'AMRITSAR', 'AMROHA', 'ANAND', 'ANANTAPUR',\n",
       "        'ANANTNAG', 'ANJAW', 'ANUGUL', 'ANUPPUR', 'ARARIA', 'ARIYALUR',\n",
       "        'ARWAL', 'ASHOKNAGAR', 'AURAIYA', 'AURANGABAD', 'AZAMGARH',\n",
       "        'BADGAM', 'BAGALKOT', 'BAGESHWAR', 'BAGHPAT', 'BAHRAICH', 'BAKSA',\n",
       "        'BALAGHAT', 'BALANGIR', 'BALESHWAR', 'BALLIA', 'BALOD',\n",
       "        'BALODA BAZAR', 'BALRAMPUR', 'BANAS KANTHA', 'BANDA', 'BANDIPORA',\n",
       "        'BANGALORE RURAL', 'BANKA', 'BANKURA', 'BANSWARA', 'BARABANKI',\n",
       "        'BARAMULLA', 'BARAN', 'BARDHAMAN', 'BAREILLY', 'BARGARH', 'BARMER',\n",
       "        'BARNALA', 'BARPETA', 'BARWANI', 'BASTAR', 'BASTI', 'BATHINDA',\n",
       "        'BEED', 'BEGUSARAI', 'BELGAUM', 'BELLARY', 'BEMETARA',\n",
       "        'BENGALURU URBAN', 'BETUL', 'BHADRAK', 'BHAGALPUR', 'BHANDARA',\n",
       "        'BHARATPUR', 'BHARUCH', 'BHAVNAGAR', 'BHILWARA', 'BHIND',\n",
       "        'BHIWANI', 'BHOJPUR', 'BHOPAL', 'BIDAR', 'BIJAPUR', 'BIJNOR',\n",
       "        'BIKANER', 'BILASPUR', 'BIRBHUM', 'BISHNUPUR', 'BOKARO',\n",
       "        'BONGAIGAON', 'BOUDH', 'BUDAUN', 'BULANDSHAHR', 'BULDHANA',\n",
       "        'BUNDI', 'BURHANPUR', 'BUXAR', 'CACHAR', 'CHAMARAJANAGAR',\n",
       "        'CHAMBA', 'CHAMOLI', 'CHAMPAWAT', 'CHAMPHAI', 'CHANDAULI',\n",
       "        'CHANDEL', 'CHANDIGARH', 'CHANDRAPUR', 'CHANGLANG', 'CHATRA',\n",
       "        'CHHATARPUR', 'CHHINDWARA', 'CHIKBALLAPUR', 'CHIKMAGALUR',\n",
       "        'CHIRANG', 'CHITRADURGA', 'CHITRAKOOT', 'CHITTOOR', 'CHITTORGARH',\n",
       "        'CHURACHANDPUR', 'CHURU', 'COIMBATORE', 'COOCHBEHAR', 'CUDDALORE',\n",
       "        'CUTTACK', 'DADRA AND NAGAR HAVELI', 'DAKSHIN KANNAD', 'DAMOH',\n",
       "        'DANG', 'DANTEWADA', 'DARBHANGA', 'DARJEELING', 'DARRANG', 'DATIA',\n",
       "        'DAUSA', 'DAVANGERE', 'DEHRADUN', 'DEOGARH', 'DEOGHAR', 'DEORIA',\n",
       "        'DEWAS', 'DHALAI', 'DHAMTARI', 'DHANBAD', 'DHAR', 'DHARMAPURI',\n",
       "        'DHARWAD', 'DHEMAJI', 'DHENKANAL', 'DHOLPUR', 'DHUBRI', 'DHULE',\n",
       "        'DIBANG VALLEY', 'DIBRUGARH', 'DIMA HASAO', 'DIMAPUR',\n",
       "        'DINAJPUR DAKSHIN', 'DINAJPUR UTTAR', 'DINDIGUL', 'DINDORI',\n",
       "        'DODA', 'DOHAD', 'DUMKA', 'DUNGARPUR', 'DURG', 'EAST DISTRICT',\n",
       "        'EAST GARO HILLS', 'EAST GODAVARI', 'EAST JAINTIA HILLS',\n",
       "        'EAST KAMENG', 'EAST KHASI HILLS', 'EAST SIANG', 'EAST SINGHBUM',\n",
       "        'ERNAKULAM', 'ERODE', 'ETAH', 'ETAWAH', 'FAIZABAD', 'FARIDABAD',\n",
       "        'FARIDKOT', 'FARRUKHABAD', 'FATEHABAD', 'FATEHGARH SAHIB',\n",
       "        'FATEHPUR', 'FAZILKA', 'FIROZABAD', 'FIROZEPUR', 'GADAG',\n",
       "        'GADCHIROLI', 'GAJAPATI', 'GANDERBAL', 'GANDHINAGAR', 'GANGANAGAR',\n",
       "        'GANJAM', 'GARHWA', 'GARIYABAND', 'GAUTAM BUDDHA NAGAR', 'GAYA',\n",
       "        'GHAZIABAD', 'GHAZIPUR', 'GIRIDIH', 'GOALPARA', 'GODDA',\n",
       "        'GOLAGHAT', 'GOMATI', 'GONDA', 'GONDIA', 'GOPALGANJ', 'GORAKHPUR',\n",
       "        'GULBARGA', 'GUMLA', 'GUNA', 'GUNTUR', 'GURDASPUR', 'GURGAON',\n",
       "        'GWALIOR', 'HAILAKANDI', 'HAMIRPUR', 'HANUMANGARH', 'HAPUR',\n",
       "        'HARDA', 'HARDOI', 'HARIDWAR', 'HASSAN', 'HATHRAS', 'HAVERI',\n",
       "        'HAZARIBAGH', 'HINGOLI', 'HISAR', 'HOOGHLY', 'HOSHANGABAD',\n",
       "        'HOSHIARPUR', 'HOWRAH', 'HYDERABAD', 'IDUKKI', 'IMPHAL EAST',\n",
       "        'IMPHAL WEST', 'INDORE', 'JABALPUR', 'JAGATSINGHAPUR', 'JAIPUR',\n",
       "        'JAISALMER', 'JAJAPUR', 'JALANDHAR', 'JALAUN', 'JALGAON', 'JALNA',\n",
       "        'JALORE', 'JALPAIGURI', 'JAMMU', 'JAMNAGAR', 'JAMTARA', 'JAMUI',\n",
       "        'JANJGIR-CHAMPA', 'JASHPUR', 'JAUNPUR', 'JEHANABAD', 'JHABUA',\n",
       "        'JHAJJAR', 'JHALAWAR', 'JHANSI', 'JHARSUGUDA', 'JHUNJHUNU', 'JIND',\n",
       "        'JODHPUR', 'JORHAT', 'JUNAGADH', 'KABIRDHAM', 'KACHCHH', 'KADAPA',\n",
       "        'KAIMUR (BHABUA)', 'KAITHAL', 'KALAHANDI', 'KAMRUP',\n",
       "        'KAMRUP METRO', 'KANCHIPURAM', 'KANDHAMAL', 'KANGRA', 'KANKER',\n",
       "        'KANNAUJ', 'KANNIYAKUMARI', 'KANNUR', 'KANPUR DEHAT',\n",
       "        'KANPUR NAGAR', 'KAPURTHALA', 'KARAIKAL', 'KARAULI',\n",
       "        'KARBI ANGLONG', 'KARGIL', 'KARIMGANJ', 'KARIMNAGAR', 'KARNAL',\n",
       "        'KARUR', 'KASARAGOD', 'KASGANJ', 'KATHUA', 'KATIHAR', 'KATNI',\n",
       "        'KAUSHAMBI', 'KENDRAPARA', 'KENDUJHAR', 'KHAGARIA', 'KHAMMAM',\n",
       "        'KHANDWA', 'KHARGONE', 'KHEDA', 'KHERI', 'KHORDHA', 'KHOWAI',\n",
       "        'KHUNTI', 'KINNAUR', 'KIPHIRE', 'KISHANGANJ', 'KISHTWAR', 'KODAGU',\n",
       "        'KODERMA', 'KOHIMA', 'KOKRAJHAR', 'KOLAR', 'KOLASIB', 'KOLHAPUR',\n",
       "        'KOLLAM', 'KONDAGAON', 'KOPPAL', 'KORAPUT', 'KORBA', 'KOREA',\n",
       "        'KOTA', 'KOTTAYAM', 'KOZHIKODE', 'KRISHNA', 'KRISHNAGIRI',\n",
       "        'KULGAM', 'KULLU', 'KUPWARA', 'KURNOOL', 'KURUKSHETRA',\n",
       "        'KURUNG KUMEY', 'KUSHI NAGAR', 'LAHUL AND SPITI', 'LAKHIMPUR',\n",
       "        'LAKHISARAI', 'LALITPUR', 'LATEHAR', 'LATUR', 'LAWNGTLAI',\n",
       "        'LEH LADAKH', 'LOHARDAGA', 'LOHIT', 'LONGDING', 'LONGLENG',\n",
       "        'LOWER DIBANG VALLEY', 'LOWER SUBANSIRI', 'LUCKNOW', 'LUDHIANA',\n",
       "        'LUNGLEI', 'MADHEPURA', 'MADHUBANI', 'MADURAI', 'MAHARAJGANJ',\n",
       "        'MAHASAMUND', 'MAHBUBNAGAR', 'MAHE', 'MAHENDRAGARH', 'MAHESANA',\n",
       "        'MAHOBA', 'MAINPURI', 'MALAPPURAM', 'MALDAH', 'MALKANGIRI',\n",
       "        'MAMIT', 'MANDI', 'MANDLA', 'MANDSAUR', 'MANDYA', 'MANSA',\n",
       "        'MARIGAON', 'MATHURA', 'MAU', 'MAYURBHANJ', 'MEDAK',\n",
       "        'MEDINIPUR EAST', 'MEDINIPUR WEST', 'MEERUT', 'MEWAT', 'MIRZAPUR',\n",
       "        'MOGA', 'MOKOKCHUNG', 'MON', 'MORADABAD', 'MORENA', 'MUKTSAR',\n",
       "        'MUMBAI', 'MUNGELI', 'MUNGER', 'MURSHIDABAD', 'MUZAFFARNAGAR',\n",
       "        'MUZAFFARPUR', 'MYSORE', 'NABARANGPUR', 'NADIA', 'NAGAON',\n",
       "        'NAGAPATTINAM', 'NAGAUR', 'NAGPUR', 'NAINITAL', 'NALANDA',\n",
       "        'NALBARI', 'NALGONDA', 'NAMAKKAL', 'NAMSAI', 'NANDED', 'NANDURBAR',\n",
       "        'NARAYANPUR', 'NARMADA', 'NARSINGHPUR', 'NASHIK', 'NAVSARI',\n",
       "        'NAWADA', 'NAWANSHAHR', 'NAYAGARH', 'NEEMUCH', 'NICOBARS',\n",
       "        'NIZAMABAD', 'NORTH AND MIDDLE ANDAMAN', 'NORTH DISTRICT',\n",
       "        'NORTH GARO HILLS', 'NORTH GOA', 'NORTH TRIPURA', 'NUAPADA',\n",
       "        'OSMANABAD', 'PAKUR', 'PALAKKAD', 'PALAMU', 'PALGHAR', 'PALI',\n",
       "        'PALWAL', 'PANCH MAHALS', 'PANCHKULA', 'PANIPAT', 'PANNA',\n",
       "        'PAPUM PARE', 'PARBHANI', 'PASHCHIM CHAMPARAN', 'PATAN',\n",
       "        'PATHANAMTHITTA', 'PATHANKOT', 'PATIALA', 'PATNA', 'PAURI GARHWAL',\n",
       "        'PERAMBALUR', 'PEREN', 'PHEK', 'PILIBHIT', 'PITHORAGARH',\n",
       "        'PONDICHERRY', 'POONCH', 'PORBANDAR', 'PRAKASAM', 'PRATAPGARH',\n",
       "        'PUDUKKOTTAI', 'PULWAMA', 'PUNE', 'PURBI CHAMPARAN', 'PURI',\n",
       "        'PURNIA', 'PURULIA', 'RAE BARELI', 'RAICHUR', 'RAIGAD', 'RAIGARH',\n",
       "        'RAIPUR', 'RAISEN', 'RAJAURI', 'RAJGARH', 'RAJKOT', 'RAJNANDGAON',\n",
       "        'RAJSAMAND', 'RAMANAGARA', 'RAMANATHAPURAM', 'RAMBAN', 'RAMGARH',\n",
       "        'RAMPUR', 'RANCHI', 'RANGAREDDI', 'RATLAM', 'RATNAGIRI',\n",
       "        'RAYAGADA', 'REASI', 'REWA', 'REWARI', 'RI BHOI', 'ROHTAK',\n",
       "        'ROHTAS', 'RUDRA PRAYAG', 'RUPNAGAR', 'S.A.S NAGAR',\n",
       "        'SABAR KANTHA', 'SAGAR', 'SAHARANPUR', 'SAHARSA', 'SAHEBGANJ',\n",
       "        'SAIHA', 'SALEM', 'SAMASTIPUR', 'SAMBA', 'SAMBALPUR', 'SAMBHAL',\n",
       "        'SANGLI', 'SANGRUR', 'SANT KABEER NAGAR', 'SANT RAVIDAS NAGAR',\n",
       "        'SARAIKELA KHARSAWAN', 'SARAN', 'SATARA', 'SATNA',\n",
       "        'SAWAI MADHOPUR', 'SEHORE', 'SENAPATI', 'SEONI', 'SEPAHIJALA',\n",
       "        'SERCHHIP', 'SHAHDOL', 'SHAHJAHANPUR', 'SHAJAPUR', 'SHAMLI',\n",
       "        'SHEIKHPURA', 'SHEOHAR', 'SHEOPUR', 'SHIMLA', 'SHIMOGA',\n",
       "        'SHIVPURI', 'SHOPIAN', 'SHRAVASTI', 'SIDDHARTH NAGAR', 'SIDHI',\n",
       "        'SIKAR', 'SIMDEGA', 'SINDHUDURG', 'SINGRAULI', 'SIRMAUR', 'SIROHI',\n",
       "        'SIRSA', 'SITAMARHI', 'SITAPUR', 'SIVAGANGA', 'SIVASAGAR', 'SIWAN',\n",
       "        'SOLAN', 'SOLAPUR', 'SONBHADRA', 'SONEPUR', 'SONIPAT', 'SONITPUR',\n",
       "        'SOUTH ANDAMANS', 'SOUTH DISTRICT', 'SOUTH GARO HILLS',\n",
       "        'SOUTH GOA', 'SOUTH TRIPURA', 'SOUTH WEST GARO HILLS',\n",
       "        'SOUTH WEST KHASI HILLS', 'SPSR NELLORE', 'SRIKAKULAM', 'SRINAGAR',\n",
       "        'SUKMA', 'SULTANPUR', 'SUNDARGARH', 'SUPAUL', 'SURAJPUR', 'SURAT',\n",
       "        'SURENDRANAGAR', 'SURGUJA', 'TAMENGLONG', 'TAPI', 'TARN TARAN',\n",
       "        'TAWANG', 'TEHRI GARHWAL', 'THANE', 'THANJAVUR', 'THE NILGIRIS',\n",
       "        'THENI', 'THIRUVALLUR', 'THIRUVANANTHAPURAM', 'THIRUVARUR',\n",
       "        'THOUBAL', 'THRISSUR', 'TIKAMGARH', 'TINSUKIA', 'TIRAP',\n",
       "        'TIRUCHIRAPPALLI', 'TIRUNELVELI', 'TIRUPPUR', 'TIRUVANNAMALAI',\n",
       "        'TONK', 'TUENSANG', 'TUMKUR', 'TUTICORIN', 'UDAIPUR', 'UDALGURI',\n",
       "        'UDAM SINGH NAGAR', 'UDHAMPUR', 'UDUPI', 'UJJAIN', 'UKHRUL',\n",
       "        'UMARIA', 'UNA', 'UNAKOTI', 'UNNAO', 'UPPER SIANG',\n",
       "        'UPPER SUBANSIRI', 'UTTAR KANNAD', 'UTTAR KASHI', 'VADODARA',\n",
       "        'VAISHALI', 'VALSAD', 'VARANASI', 'VELLORE', 'VIDISHA',\n",
       "        'VILLUPURAM', 'VIRUDHUNAGAR', 'VISAKHAPATANAM', 'VIZIANAGARAM',\n",
       "        'WARANGAL', 'WARDHA', 'WASHIM', 'WAYANAD', 'WEST DISTRICT',\n",
       "        'WEST GARO HILLS', 'WEST GODAVARI', 'WEST JAINTIA HILLS',\n",
       "        'WEST KAMENG', 'WEST KHASI HILLS', 'WEST SIANG', 'WEST SINGHBHUM',\n",
       "        'WEST TRIPURA', 'WOKHA', 'YADGIR', 'YAMUNANAGAR', 'YANAM',\n",
       "        'YAVATMAL', 'ZUNHEBOTO'], dtype=object),\n",
       " array(['Autumn', 'Kharif', 'Rabi', 'Summer', 'Whole Year', 'Winter'],\n",
       "       dtype=object)]"
      ]
     },
     "execution_count": 23,
     "metadata": {},
     "output_type": "execute_result"
    }
   ],
   "source": [
    "ohe.categories_"
   ]
  },
  {
   "cell_type": "code",
   "execution_count": 24,
   "id": "7d515a23",
   "metadata": {
    "id": "7d515a23"
   },
   "outputs": [],
   "source": [
    "column_trans=make_column_transformer((OneHotEncoder(categories=ohe.categories_),['State_Name','District_Name','Season']),\n",
    "                                    remainder='passthrough')"
   ]
  },
  {
   "cell_type": "code",
   "execution_count": 25,
   "id": "d8bb7a50",
   "metadata": {
    "id": "d8bb7a50"
   },
   "outputs": [],
   "source": [
    "from sklearn.ensemble import RandomForestClassifier\n",
    "from sklearn.tree import DecisionTreeClassifier\n",
    "from sklearn.ensemble import VotingClassifier\n",
    "from sklearn.neighbors import KNeighborsClassifier\n",
    "from sklearn.metrics import accuracy_score\n",
    "from sklearn.linear_model import LogisticRegression\n",
    "from sklearn.model_selection import cross_val_score"
   ]
  },
  {
   "cell_type": "code",
   "execution_count": 26,
   "id": "aabde969",
   "metadata": {},
   "outputs": [],
   "source": [
    "clf=RandomForestClassifier()\n"
   ]
  },
  {
   "cell_type": "code",
   "execution_count": 27,
   "id": "da6c8a4e",
   "metadata": {
    "id": "da6c8a4e"
   },
   "outputs": [],
   "source": [
    "pipe=make_pipeline(column_trans,clf)"
   ]
  },
  {
   "cell_type": "code",
   "execution_count": 28,
   "id": "49d8567b",
   "metadata": {
    "id": "49d8567b",
    "outputId": "8e3b66dc-f43d-46a5-b0b8-2e8430571333"
   },
   "outputs": [
    {
     "name": "stderr",
     "output_type": "stream",
     "text": [
      "D:\\anaconda\\lib\\site-packages\\sklearn\\pipeline.py:405: DataConversionWarning: A column-vector y was passed when a 1d array was expected. Please change the shape of y to (n_samples,), for example using ravel().\n",
      "  self._final_estimator.fit(Xt, y, **fit_params_last_step)\n"
     ]
    },
    {
     "data": {
      "text/html": [
       "<style>#sk-container-id-2 {color: black;background-color: white;}#sk-container-id-2 pre{padding: 0;}#sk-container-id-2 div.sk-toggleable {background-color: white;}#sk-container-id-2 label.sk-toggleable__label {cursor: pointer;display: block;width: 100%;margin-bottom: 0;padding: 0.3em;box-sizing: border-box;text-align: center;}#sk-container-id-2 label.sk-toggleable__label-arrow:before {content: \"▸\";float: left;margin-right: 0.25em;color: #696969;}#sk-container-id-2 label.sk-toggleable__label-arrow:hover:before {color: black;}#sk-container-id-2 div.sk-estimator:hover label.sk-toggleable__label-arrow:before {color: black;}#sk-container-id-2 div.sk-toggleable__content {max-height: 0;max-width: 0;overflow: hidden;text-align: left;background-color: #f0f8ff;}#sk-container-id-2 div.sk-toggleable__content pre {margin: 0.2em;color: black;border-radius: 0.25em;background-color: #f0f8ff;}#sk-container-id-2 input.sk-toggleable__control:checked~div.sk-toggleable__content {max-height: 200px;max-width: 100%;overflow: auto;}#sk-container-id-2 input.sk-toggleable__control:checked~label.sk-toggleable__label-arrow:before {content: \"▾\";}#sk-container-id-2 div.sk-estimator input.sk-toggleable__control:checked~label.sk-toggleable__label {background-color: #d4ebff;}#sk-container-id-2 div.sk-label input.sk-toggleable__control:checked~label.sk-toggleable__label {background-color: #d4ebff;}#sk-container-id-2 input.sk-hidden--visually {border: 0;clip: rect(1px 1px 1px 1px);clip: rect(1px, 1px, 1px, 1px);height: 1px;margin: -1px;overflow: hidden;padding: 0;position: absolute;width: 1px;}#sk-container-id-2 div.sk-estimator {font-family: monospace;background-color: #f0f8ff;border: 1px dotted black;border-radius: 0.25em;box-sizing: border-box;margin-bottom: 0.5em;}#sk-container-id-2 div.sk-estimator:hover {background-color: #d4ebff;}#sk-container-id-2 div.sk-parallel-item::after {content: \"\";width: 100%;border-bottom: 1px solid gray;flex-grow: 1;}#sk-container-id-2 div.sk-label:hover label.sk-toggleable__label {background-color: #d4ebff;}#sk-container-id-2 div.sk-serial::before {content: \"\";position: absolute;border-left: 1px solid gray;box-sizing: border-box;top: 0;bottom: 0;left: 50%;z-index: 0;}#sk-container-id-2 div.sk-serial {display: flex;flex-direction: column;align-items: center;background-color: white;padding-right: 0.2em;padding-left: 0.2em;position: relative;}#sk-container-id-2 div.sk-item {position: relative;z-index: 1;}#sk-container-id-2 div.sk-parallel {display: flex;align-items: stretch;justify-content: center;background-color: white;position: relative;}#sk-container-id-2 div.sk-item::before, #sk-container-id-2 div.sk-parallel-item::before {content: \"\";position: absolute;border-left: 1px solid gray;box-sizing: border-box;top: 0;bottom: 0;left: 50%;z-index: -1;}#sk-container-id-2 div.sk-parallel-item {display: flex;flex-direction: column;z-index: 1;position: relative;background-color: white;}#sk-container-id-2 div.sk-parallel-item:first-child::after {align-self: flex-end;width: 50%;}#sk-container-id-2 div.sk-parallel-item:last-child::after {align-self: flex-start;width: 50%;}#sk-container-id-2 div.sk-parallel-item:only-child::after {width: 0;}#sk-container-id-2 div.sk-dashed-wrapped {border: 1px dashed gray;margin: 0 0.4em 0.5em 0.4em;box-sizing: border-box;padding-bottom: 0.4em;background-color: white;}#sk-container-id-2 div.sk-label label {font-family: monospace;font-weight: bold;display: inline-block;line-height: 1.2em;}#sk-container-id-2 div.sk-label-container {text-align: center;}#sk-container-id-2 div.sk-container {/* jupyter's `normalize.less` sets `[hidden] { display: none; }` but bootstrap.min.css set `[hidden] { display: none !important; }` so we also need the `!important` here to be able to override the default hidden behavior on the sphinx rendered scikit-learn.org. See: https://github.com/scikit-learn/scikit-learn/issues/21755 */display: inline-block !important;position: relative;}#sk-container-id-2 div.sk-text-repr-fallback {display: none;}</style><div id=\"sk-container-id-2\" class=\"sk-top-container\"><div class=\"sk-text-repr-fallback\"><pre>Pipeline(steps=[(&#x27;columntransformer&#x27;,\n",
       "                 ColumnTransformer(remainder=&#x27;passthrough&#x27;,\n",
       "                                   transformers=[(&#x27;onehotencoder&#x27;,\n",
       "                                                  OneHotEncoder(categories=[array([&#x27;Andaman and Nicobar Islands&#x27;, &#x27;Andhra Pradesh&#x27;,\n",
       "       &#x27;Arunachal Pradesh&#x27;, &#x27;Assam&#x27;, &#x27;Bihar&#x27;, &#x27;Chandigarh&#x27;,\n",
       "       &#x27;Chhattisgarh&#x27;, &#x27;Dadra and Nagar Haveli&#x27;, &#x27;Goa&#x27;, &#x27;Gujarat&#x27;,\n",
       "       &#x27;Haryana&#x27;, &#x27;Himachal Pradesh&#x27;, &#x27;Jammu and Kashmir &#x27;, &#x27;Jharkhand&#x27;,\n",
       "       &#x27;Karn...\n",
       "       &#x27;WEST GARO HILLS&#x27;, &#x27;WEST GODAVARI&#x27;, &#x27;WEST JAINTIA HILLS&#x27;,\n",
       "       &#x27;WEST KAMENG&#x27;, &#x27;WEST KHASI HILLS&#x27;, &#x27;WEST SIANG&#x27;, &#x27;WEST SINGHBHUM&#x27;,\n",
       "       &#x27;WEST TRIPURA&#x27;, &#x27;WOKHA&#x27;, &#x27;YADGIR&#x27;, &#x27;YAMUNANAGAR&#x27;, &#x27;YANAM&#x27;,\n",
       "       &#x27;YAVATMAL&#x27;, &#x27;ZUNHEBOTO&#x27;], dtype=object),\n",
       "                                                                            array([&#x27;Autumn&#x27;, &#x27;Kharif&#x27;, &#x27;Rabi&#x27;, &#x27;Summer&#x27;, &#x27;Whole Year&#x27;, &#x27;Winter&#x27;],\n",
       "      dtype=object)]),\n",
       "                                                  [&#x27;State_Name&#x27;,\n",
       "                                                   &#x27;District_Name&#x27;,\n",
       "                                                   &#x27;Season&#x27;])])),\n",
       "                (&#x27;randomforestclassifier&#x27;, RandomForestClassifier())])</pre><b>In a Jupyter environment, please rerun this cell to show the HTML representation or trust the notebook. <br />On GitHub, the HTML representation is unable to render, please try loading this page with nbviewer.org.</b></div><div class=\"sk-container\" hidden><div class=\"sk-item sk-dashed-wrapped\"><div class=\"sk-label-container\"><div class=\"sk-label sk-toggleable\"><input class=\"sk-toggleable__control sk-hidden--visually\" id=\"sk-estimator-id-2\" type=\"checkbox\" ><label for=\"sk-estimator-id-2\" class=\"sk-toggleable__label sk-toggleable__label-arrow\">Pipeline</label><div class=\"sk-toggleable__content\"><pre>Pipeline(steps=[(&#x27;columntransformer&#x27;,\n",
       "                 ColumnTransformer(remainder=&#x27;passthrough&#x27;,\n",
       "                                   transformers=[(&#x27;onehotencoder&#x27;,\n",
       "                                                  OneHotEncoder(categories=[array([&#x27;Andaman and Nicobar Islands&#x27;, &#x27;Andhra Pradesh&#x27;,\n",
       "       &#x27;Arunachal Pradesh&#x27;, &#x27;Assam&#x27;, &#x27;Bihar&#x27;, &#x27;Chandigarh&#x27;,\n",
       "       &#x27;Chhattisgarh&#x27;, &#x27;Dadra and Nagar Haveli&#x27;, &#x27;Goa&#x27;, &#x27;Gujarat&#x27;,\n",
       "       &#x27;Haryana&#x27;, &#x27;Himachal Pradesh&#x27;, &#x27;Jammu and Kashmir &#x27;, &#x27;Jharkhand&#x27;,\n",
       "       &#x27;Karn...\n",
       "       &#x27;WEST GARO HILLS&#x27;, &#x27;WEST GODAVARI&#x27;, &#x27;WEST JAINTIA HILLS&#x27;,\n",
       "       &#x27;WEST KAMENG&#x27;, &#x27;WEST KHASI HILLS&#x27;, &#x27;WEST SIANG&#x27;, &#x27;WEST SINGHBHUM&#x27;,\n",
       "       &#x27;WEST TRIPURA&#x27;, &#x27;WOKHA&#x27;, &#x27;YADGIR&#x27;, &#x27;YAMUNANAGAR&#x27;, &#x27;YANAM&#x27;,\n",
       "       &#x27;YAVATMAL&#x27;, &#x27;ZUNHEBOTO&#x27;], dtype=object),\n",
       "                                                                            array([&#x27;Autumn&#x27;, &#x27;Kharif&#x27;, &#x27;Rabi&#x27;, &#x27;Summer&#x27;, &#x27;Whole Year&#x27;, &#x27;Winter&#x27;],\n",
       "      dtype=object)]),\n",
       "                                                  [&#x27;State_Name&#x27;,\n",
       "                                                   &#x27;District_Name&#x27;,\n",
       "                                                   &#x27;Season&#x27;])])),\n",
       "                (&#x27;randomforestclassifier&#x27;, RandomForestClassifier())])</pre></div></div></div><div class=\"sk-serial\"><div class=\"sk-item sk-dashed-wrapped\"><div class=\"sk-label-container\"><div class=\"sk-label sk-toggleable\"><input class=\"sk-toggleable__control sk-hidden--visually\" id=\"sk-estimator-id-3\" type=\"checkbox\" ><label for=\"sk-estimator-id-3\" class=\"sk-toggleable__label sk-toggleable__label-arrow\">columntransformer: ColumnTransformer</label><div class=\"sk-toggleable__content\"><pre>ColumnTransformer(remainder=&#x27;passthrough&#x27;,\n",
       "                  transformers=[(&#x27;onehotencoder&#x27;,\n",
       "                                 OneHotEncoder(categories=[array([&#x27;Andaman and Nicobar Islands&#x27;, &#x27;Andhra Pradesh&#x27;,\n",
       "       &#x27;Arunachal Pradesh&#x27;, &#x27;Assam&#x27;, &#x27;Bihar&#x27;, &#x27;Chandigarh&#x27;,\n",
       "       &#x27;Chhattisgarh&#x27;, &#x27;Dadra and Nagar Haveli&#x27;, &#x27;Goa&#x27;, &#x27;Gujarat&#x27;,\n",
       "       &#x27;Haryana&#x27;, &#x27;Himachal Pradesh&#x27;, &#x27;Jammu and Kashmir &#x27;, &#x27;Jharkhand&#x27;,\n",
       "       &#x27;Karnataka&#x27;, &#x27;Kerala&#x27;, &#x27;Madhya Pradesh&#x27;, &#x27;Maha...\n",
       "       &#x27;WARANGAL&#x27;, &#x27;WARDHA&#x27;, &#x27;WASHIM&#x27;, &#x27;WAYANAD&#x27;, &#x27;WEST DISTRICT&#x27;,\n",
       "       &#x27;WEST GARO HILLS&#x27;, &#x27;WEST GODAVARI&#x27;, &#x27;WEST JAINTIA HILLS&#x27;,\n",
       "       &#x27;WEST KAMENG&#x27;, &#x27;WEST KHASI HILLS&#x27;, &#x27;WEST SIANG&#x27;, &#x27;WEST SINGHBHUM&#x27;,\n",
       "       &#x27;WEST TRIPURA&#x27;, &#x27;WOKHA&#x27;, &#x27;YADGIR&#x27;, &#x27;YAMUNANAGAR&#x27;, &#x27;YANAM&#x27;,\n",
       "       &#x27;YAVATMAL&#x27;, &#x27;ZUNHEBOTO&#x27;], dtype=object),\n",
       "                                                           array([&#x27;Autumn&#x27;, &#x27;Kharif&#x27;, &#x27;Rabi&#x27;, &#x27;Summer&#x27;, &#x27;Whole Year&#x27;, &#x27;Winter&#x27;],\n",
       "      dtype=object)]),\n",
       "                                 [&#x27;State_Name&#x27;, &#x27;District_Name&#x27;, &#x27;Season&#x27;])])</pre></div></div></div><div class=\"sk-parallel\"><div class=\"sk-parallel-item\"><div class=\"sk-item\"><div class=\"sk-label-container\"><div class=\"sk-label sk-toggleable\"><input class=\"sk-toggleable__control sk-hidden--visually\" id=\"sk-estimator-id-4\" type=\"checkbox\" ><label for=\"sk-estimator-id-4\" class=\"sk-toggleable__label sk-toggleable__label-arrow\">onehotencoder</label><div class=\"sk-toggleable__content\"><pre>[&#x27;State_Name&#x27;, &#x27;District_Name&#x27;, &#x27;Season&#x27;]</pre></div></div></div><div class=\"sk-serial\"><div class=\"sk-item\"><div class=\"sk-estimator sk-toggleable\"><input class=\"sk-toggleable__control sk-hidden--visually\" id=\"sk-estimator-id-5\" type=\"checkbox\" ><label for=\"sk-estimator-id-5\" class=\"sk-toggleable__label sk-toggleable__label-arrow\">OneHotEncoder</label><div class=\"sk-toggleable__content\"><pre>OneHotEncoder(categories=[array([&#x27;Andaman and Nicobar Islands&#x27;, &#x27;Andhra Pradesh&#x27;,\n",
       "       &#x27;Arunachal Pradesh&#x27;, &#x27;Assam&#x27;, &#x27;Bihar&#x27;, &#x27;Chandigarh&#x27;,\n",
       "       &#x27;Chhattisgarh&#x27;, &#x27;Dadra and Nagar Haveli&#x27;, &#x27;Goa&#x27;, &#x27;Gujarat&#x27;,\n",
       "       &#x27;Haryana&#x27;, &#x27;Himachal Pradesh&#x27;, &#x27;Jammu and Kashmir &#x27;, &#x27;Jharkhand&#x27;,\n",
       "       &#x27;Karnataka&#x27;, &#x27;Kerala&#x27;, &#x27;Madhya Pradesh&#x27;, &#x27;Maharashtra&#x27;, &#x27;Manipur&#x27;,\n",
       "       &#x27;Meghalaya&#x27;, &#x27;Mizoram&#x27;, &#x27;Nagaland&#x27;, &#x27;Odisha&#x27;, &#x27;Puducherry&#x27;...\n",
       "       &#x27;VILLUPURAM&#x27;, &#x27;VIRUDHUNAGAR&#x27;, &#x27;VISAKHAPATANAM&#x27;, &#x27;VIZIANAGARAM&#x27;,\n",
       "       &#x27;WARANGAL&#x27;, &#x27;WARDHA&#x27;, &#x27;WASHIM&#x27;, &#x27;WAYANAD&#x27;, &#x27;WEST DISTRICT&#x27;,\n",
       "       &#x27;WEST GARO HILLS&#x27;, &#x27;WEST GODAVARI&#x27;, &#x27;WEST JAINTIA HILLS&#x27;,\n",
       "       &#x27;WEST KAMENG&#x27;, &#x27;WEST KHASI HILLS&#x27;, &#x27;WEST SIANG&#x27;, &#x27;WEST SINGHBHUM&#x27;,\n",
       "       &#x27;WEST TRIPURA&#x27;, &#x27;WOKHA&#x27;, &#x27;YADGIR&#x27;, &#x27;YAMUNANAGAR&#x27;, &#x27;YANAM&#x27;,\n",
       "       &#x27;YAVATMAL&#x27;, &#x27;ZUNHEBOTO&#x27;], dtype=object),\n",
       "                          array([&#x27;Autumn&#x27;, &#x27;Kharif&#x27;, &#x27;Rabi&#x27;, &#x27;Summer&#x27;, &#x27;Whole Year&#x27;, &#x27;Winter&#x27;],\n",
       "      dtype=object)])</pre></div></div></div></div></div></div><div class=\"sk-parallel-item\"><div class=\"sk-item\"><div class=\"sk-label-container\"><div class=\"sk-label sk-toggleable\"><input class=\"sk-toggleable__control sk-hidden--visually\" id=\"sk-estimator-id-6\" type=\"checkbox\" ><label for=\"sk-estimator-id-6\" class=\"sk-toggleable__label sk-toggleable__label-arrow\">remainder</label><div class=\"sk-toggleable__content\"><pre>[&#x27;Area&#x27;, &#x27;temperature&#x27;, &#x27;pH&#x27;, &#x27;rainfall&#x27;]</pre></div></div></div><div class=\"sk-serial\"><div class=\"sk-item\"><div class=\"sk-estimator sk-toggleable\"><input class=\"sk-toggleable__control sk-hidden--visually\" id=\"sk-estimator-id-7\" type=\"checkbox\" ><label for=\"sk-estimator-id-7\" class=\"sk-toggleable__label sk-toggleable__label-arrow\">passthrough</label><div class=\"sk-toggleable__content\"><pre>passthrough</pre></div></div></div></div></div></div></div></div><div class=\"sk-item\"><div class=\"sk-estimator sk-toggleable\"><input class=\"sk-toggleable__control sk-hidden--visually\" id=\"sk-estimator-id-8\" type=\"checkbox\" ><label for=\"sk-estimator-id-8\" class=\"sk-toggleable__label sk-toggleable__label-arrow\">RandomForestClassifier</label><div class=\"sk-toggleable__content\"><pre>RandomForestClassifier()</pre></div></div></div></div></div></div></div>"
      ],
      "text/plain": [
       "Pipeline(steps=[('columntransformer',\n",
       "                 ColumnTransformer(remainder='passthrough',\n",
       "                                   transformers=[('onehotencoder',\n",
       "                                                  OneHotEncoder(categories=[array(['Andaman and Nicobar Islands', 'Andhra Pradesh',\n",
       "       'Arunachal Pradesh', 'Assam', 'Bihar', 'Chandigarh',\n",
       "       'Chhattisgarh', 'Dadra and Nagar Haveli', 'Goa', 'Gujarat',\n",
       "       'Haryana', 'Himachal Pradesh', 'Jammu and Kashmir ', 'Jharkhand',\n",
       "       'Karn...\n",
       "       'WEST GARO HILLS', 'WEST GODAVARI', 'WEST JAINTIA HILLS',\n",
       "       'WEST KAMENG', 'WEST KHASI HILLS', 'WEST SIANG', 'WEST SINGHBHUM',\n",
       "       'WEST TRIPURA', 'WOKHA', 'YADGIR', 'YAMUNANAGAR', 'YANAM',\n",
       "       'YAVATMAL', 'ZUNHEBOTO'], dtype=object),\n",
       "                                                                            array(['Autumn', 'Kharif', 'Rabi', 'Summer', 'Whole Year', 'Winter'],\n",
       "      dtype=object)]),\n",
       "                                                  ['State_Name',\n",
       "                                                   'District_Name',\n",
       "                                                   'Season'])])),\n",
       "                ('randomforestclassifier', RandomForestClassifier())])"
      ]
     },
     "execution_count": 28,
     "metadata": {},
     "output_type": "execute_result"
    }
   ],
   "source": [
    "pipe.fit(x_train,y_train)"
   ]
  },
  {
   "cell_type": "code",
   "execution_count": 29,
   "id": "93811921",
   "metadata": {
    "id": "93811921"
   },
   "outputs": [],
   "source": [
    "y_pred = pipe.predict(x_test)"
   ]
  },
  {
   "cell_type": "code",
   "execution_count": 30,
   "id": "a25d4263",
   "metadata": {
    "id": "a25d4263",
    "outputId": "67187ba8-9781-47bd-9243-f411ecf580cd"
   },
   "outputs": [
    {
     "data": {
      "text/plain": [
       "array(['onion', 'urad', 'gram', ..., 'sesamum', 'rice', 'rice'],\n",
       "      dtype=object)"
      ]
     },
     "execution_count": 30,
     "metadata": {},
     "output_type": "execute_result"
    }
   ],
   "source": [
    "y_pred"
   ]
  },
  {
   "cell_type": "code",
   "execution_count": 31,
   "id": "a93773a8",
   "metadata": {
    "id": "a93773a8",
    "outputId": "00d0dc8a-76ac-426a-a68d-060617f9b182"
   },
   "outputs": [
    {
     "data": {
      "text/plain": [
       "0.9109997462572951"
      ]
     },
     "execution_count": 31,
     "metadata": {},
     "output_type": "execute_result"
    }
   ],
   "source": [
    "from sklearn.metrics import accuracy_score\n",
    "accuracy=accuracy_score(y_test,y_pred)\n",
    "accuracy"
   ]
  },
  {
   "cell_type": "code",
   "execution_count": 32,
   "id": "c436058c",
   "metadata": {
    "id": "c436058c",
    "outputId": "c588fca7-eea4-49b4-e725-ded7da9cab4c"
   },
   "outputs": [
    {
     "data": {
      "text/plain": [
       "Index(['State_Name', 'District_Name', 'Season', 'Area', 'temperature', 'pH',\n",
       "       'rainfall'],\n",
       "      dtype='object')"
      ]
     },
     "execution_count": 32,
     "metadata": {},
     "output_type": "execute_result"
    }
   ],
   "source": [
    "x.columns"
   ]
  },
  {
   "cell_type": "code",
   "execution_count": 33,
   "id": "8b21d472",
   "metadata": {
    "id": "8b21d472"
   },
   "outputs": [],
   "source": [
    "import pickle\n",
    "pickle.dump(pipe,open('model.pkl','wb'))\n",
    "# model=pickle.load(open('model.pkl','rb'))"
   ]
  },
  {
   "cell_type": "code",
   "execution_count": 34,
   "id": "f6e3b508",
   "metadata": {
    "id": "f6e3b508"
   },
   "outputs": [],
   "source": [
    "import warnings\n",
    "import pickle\n",
    "warnings.filterwarnings(\"ignore\")\n"
   ]
  },
  {
   "cell_type": "code",
   "execution_count": 35,
   "id": "876536fc",
   "metadata": {
    "id": "876536fc"
   },
   "outputs": [
    {
     "data": {
      "text/plain": [
       "'arhar/tur'"
      ]
     },
     "execution_count": 35,
     "metadata": {},
     "output_type": "execute_result"
    }
   ],
   "source": [
    "pipe.predict(pd.DataFrame([['Andhra Pradesh','ANANTAPUR','Kharif',21400,30,6,60]],\n",
    "                              columns=['State_Name', 'District_Name', 'Season', 'Area', 'temperature', 'pH',\n",
    "                                       'rainfall']))[0]"
   ]
  },
  {
   "cell_type": "code",
   "execution_count": 36,
   "id": "914455b3",
   "metadata": {},
   "outputs": [],
   "source": [
    "state_name='Andhra Pradesh'\n",
    "district_name='ANANTAPUR'\n",
    "season='Kharif'\n",
    "area=21400\n",
    "pH=6\n",
    "raifnall=60\n",
    "temperature=30\n",
    "# district_name=district_name.split('_')[1]"
   ]
  },
  {
   "cell_type": "code",
   "execution_count": null,
   "id": "63219e5c",
   "metadata": {
    "id": "63219e5c"
   },
   "outputs": [],
   "source": [
    "pipe.predict(pd.DataFrame([[state_name, district_name, season, area, temperature, pH, raifnall]],\n",
    "                              columns=['State_Name', 'District_Name', 'Season', 'Area', 'temperature', 'pH',\n",
    "                                       'rainfall']))\n"
   ]
  },
  {
   "cell_type": "code",
   "execution_count": null,
   "id": "4b5cbaa9",
   "metadata": {
    "id": "4b5cbaa9"
   },
   "outputs": [],
   "source": []
  },
  {
   "cell_type": "code",
   "execution_count": null,
   "id": "b774f061",
   "metadata": {
    "id": "b774f061"
   },
   "outputs": [],
   "source": []
  },
  {
   "cell_type": "code",
   "execution_count": null,
   "id": "b927426e",
   "metadata": {
    "id": "b927426e"
   },
   "outputs": [],
   "source": []
  },
  {
   "cell_type": "code",
   "execution_count": null,
   "id": "fbaf70cb",
   "metadata": {
    "id": "fbaf70cb"
   },
   "outputs": [],
   "source": []
  },
  {
   "cell_type": "code",
   "execution_count": null,
   "id": "5cc3f483",
   "metadata": {
    "id": "5cc3f483"
   },
   "outputs": [],
   "source": []
  },
  {
   "cell_type": "code",
   "execution_count": null,
   "id": "6fd7f6e3",
   "metadata": {
    "id": "6fd7f6e3"
   },
   "outputs": [],
   "source": []
  },
  {
   "cell_type": "code",
   "execution_count": null,
   "id": "198db9b2",
   "metadata": {
    "id": "198db9b2"
   },
   "outputs": [],
   "source": []
  },
  {
   "cell_type": "code",
   "execution_count": null,
   "id": "c3ec9525",
   "metadata": {
    "id": "c3ec9525"
   },
   "outputs": [],
   "source": []
  },
  {
   "cell_type": "code",
   "execution_count": null,
   "id": "e4ce950f",
   "metadata": {
    "id": "e4ce950f"
   },
   "outputs": [],
   "source": []
  }
 ],
 "metadata": {
  "colab": {
   "provenance": []
  },
  "kernelspec": {
   "display_name": "Python 3 (ipykernel)",
   "language": "python",
   "name": "python3"
  },
  "language_info": {
   "codemirror_mode": {
    "name": "ipython",
    "version": 3
   },
   "file_extension": ".py",
   "mimetype": "text/x-python",
   "name": "python",
   "nbconvert_exporter": "python",
   "pygments_lexer": "ipython3",
   "version": "3.10.9"
  },
  "vp": {
   "vp_config_version": "1.0.0",
   "vp_menu_width": 273,
   "vp_note_display": false,
   "vp_note_width": 0,
   "vp_position": {
    "width": 278
   },
   "vp_section_display": false,
   "vp_signature": "VisualPython"
  },
  "vscode": {
   "interpreter": {
    "hash": "8f8cf99212f81ad0c4765861267244807ee1c18364846cdce387b28994a977ba"
   }
  }
 },
 "nbformat": 4,
 "nbformat_minor": 5
}
